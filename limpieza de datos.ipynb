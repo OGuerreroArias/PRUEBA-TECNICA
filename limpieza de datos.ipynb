{
  "nbformat": 4,
  "nbformat_minor": 0,
  "metadata": {
    "colab": {
      "provenance": [],
      "authorship_tag": "ABX9TyP1huINvbbuomESl4pOnglx"
    },
    "kernelspec": {
      "name": "python3",
      "display_name": "Python 3"
    },
    "language_info": {
      "name": "python"
    }
  },
  "cells": [
    {
      "cell_type": "code",
      "execution_count": null,
      "metadata": {
        "colab": {
          "base_uri": "https://localhost:8080/"
        },
        "id": "ODezHOi_cgt3",
        "outputId": "48865094-0cfa-42f7-a61b-9667ab014f00"
      },
      "outputs": [
        {
          "output_type": "stream",
          "name": "stdout",
          "text": [
            "Limpieza y normalización de datos completada.\n"
          ]
        }
      ],
      "source": [
        "import pandas as pd\n",
        "\n",
        "# Cargar el archivo CSV en un DataFrame\n",
        "df = pd.read_csv('netflix_titles.csv')\n",
        "\n",
        "# Limpieza y Normalización de Datos\n",
        "# Eliminar filas con valores faltantes en columnas clave\n",
        "df.dropna(subset=['title', 'country', 'date_added', 'release_year'], inplace=True)\n",
        "\n",
        "# Convertir la columna 'date_added' a formato de fecha\n",
        "df['date_added'] = pd.to_datetime(df['date_added'], errors='coerce')\n",
        "\n",
        "# Normalizar textos para tener consistencia\n",
        "df['description'] = df['description'].str.lower().str.strip()\n",
        "\n",
        "# Separar la columna 'cast' en actores individuales si es necesario\n",
        "# Como la columna 'cast' puede tener valores faltantes, se maneja con cuidado\n",
        "df['cast'] = df['cast'].apply(lambda x: x.split(',') if isinstance(x, str) else [])\n",
        "\n",
        "# Crear una nueva columna 'duration_min' para almacenar la duración en minutos\n",
        "# Asegurarse de que la columna 'duration' contenga 'min' antes de extraer los números\n",
        "df['duration_min'] = df['duration'].str.extract('(\\d+) min').astype(float)\n",
        "\n",
        "# Guardar el DataFrame limpio y normalizado en un nuevo archivo CSV\n",
        "df.to_csv('peliculas_limpio.csv', index=False)\n",
        "\n",
        "print(\"Limpieza y normalización de datos completada.\")\n"
      ]
    },
    {
      "cell_type": "code",
      "source": [
        "# prompt: quiero descargar el csv generado en el codigo anterior\n",
        "\n",
        "from google.colab import files\n",
        "\n",
        "# Exportar el DataFrame a un archivo CSV\n",
        "df.to_csv('peliculas_limpio.csv', index=False)\n",
        "\n",
        "# Descargar el archivo CSV\n",
        "files.download('peliculas_limpio.csv')\n"
      ],
      "metadata": {
        "colab": {
          "base_uri": "https://localhost:8080/",
          "height": 34
        },
        "id": "TyKZ6eiPdjZ5",
        "outputId": "44ea0cb3-aa15-40ff-8332-693843fe660d"
      },
      "execution_count": null,
      "outputs": [
        {
          "output_type": "display_data",
          "data": {
            "text/plain": [
              "<IPython.core.display.Javascript object>"
            ],
            "application/javascript": [
              "\n",
              "    async function download(id, filename, size) {\n",
              "      if (!google.colab.kernel.accessAllowed) {\n",
              "        return;\n",
              "      }\n",
              "      const div = document.createElement('div');\n",
              "      const label = document.createElement('label');\n",
              "      label.textContent = `Downloading \"${filename}\": `;\n",
              "      div.appendChild(label);\n",
              "      const progress = document.createElement('progress');\n",
              "      progress.max = size;\n",
              "      div.appendChild(progress);\n",
              "      document.body.appendChild(div);\n",
              "\n",
              "      const buffers = [];\n",
              "      let downloaded = 0;\n",
              "\n",
              "      const channel = await google.colab.kernel.comms.open(id);\n",
              "      // Send a message to notify the kernel that we're ready.\n",
              "      channel.send({})\n",
              "\n",
              "      for await (const message of channel.messages) {\n",
              "        // Send a message to notify the kernel that we're ready.\n",
              "        channel.send({})\n",
              "        if (message.buffers) {\n",
              "          for (const buffer of message.buffers) {\n",
              "            buffers.push(buffer);\n",
              "            downloaded += buffer.byteLength;\n",
              "            progress.value = downloaded;\n",
              "          }\n",
              "        }\n",
              "      }\n",
              "      const blob = new Blob(buffers, {type: 'application/binary'});\n",
              "      const a = document.createElement('a');\n",
              "      a.href = window.URL.createObjectURL(blob);\n",
              "      a.download = filename;\n",
              "      div.appendChild(a);\n",
              "      a.click();\n",
              "      div.remove();\n",
              "    }\n",
              "  "
            ]
          },
          "metadata": {}
        },
        {
          "output_type": "display_data",
          "data": {
            "text/plain": [
              "<IPython.core.display.Javascript object>"
            ],
            "application/javascript": [
              "download(\"download_5764e6dc-a6bd-4260-92a2-11eb87f2878e\", \"peliculas_limpio.csv\", 3267575)"
            ]
          },
          "metadata": {}
        }
      ]
    }
  ]
}